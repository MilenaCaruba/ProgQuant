{
  "nbformat": 4,
  "nbformat_minor": 0,
  "metadata": {
    "colab": {
      "provenance": [],
      "authorship_tag": "ABX9TyNMwnbUOUYJ+mZB2PX1manQ",
      "include_colab_link": true
    },
    "kernelspec": {
      "name": "python3",
      "display_name": "Python 3"
    },
    "language_info": {
      "name": "python"
    }
  },
  "cells": [
    {
      "cell_type": "markdown",
      "metadata": {
        "id": "view-in-github",
        "colab_type": "text"
      },
      "source": [
        "<a href=\"https://colab.research.google.com/github/MilenaCaruba/ProgQuant/blob/main/Untitled6.ipynb\" target=\"_parent\"><img src=\"https://colab.research.google.com/assets/colab-badge.svg\" alt=\"Open In Colab\"/></a>"
      ]
    },
    {
      "cell_type": "markdown",
      "source": [
        "Questão 1\n"
      ],
      "metadata": {
        "id": "xp87AghGIFsB"
      }
    },
    {
      "cell_type": "code",
      "source": [
        "import sympy as sp\n",
        "#(x**2+1)**2=0, o que nós leva a x**2+1=0\n",
        "x=sp.symbols('x')\n",
        "solução=sp.solve(x**2+1, x)\n",
        "print('As soluções do problema são:', solução)\n",
        "#Perceba que não há solução real"
      ],
      "metadata": {
        "id": "9YEr-yW1K-MP",
        "colab": {
          "base_uri": "https://localhost:8080/"
        },
        "outputId": "71abc4fd-0806-42c5-92d0-861c98bcfbb8"
      },
      "execution_count": 47,
      "outputs": [
        {
          "output_type": "stream",
          "name": "stdout",
          "text": [
            "As soluções do problema são: [-I, I]\n"
          ]
        }
      ]
    },
    {
      "cell_type": "markdown",
      "source": [
        "Questão 2"
      ],
      "metadata": {
        "id": "oY7HAyAD8Nq1"
      }
    },
    {
      "cell_type": "code",
      "execution_count": null,
      "metadata": {
        "colab": {
          "base_uri": "https://localhost:8080/"
        },
        "id": "dmGNLn6S0uT7",
        "outputId": "8db374c8-37b6-4a96-ba3d-90f73e6f2c9b"
      },
      "outputs": [
        {
          "output_type": "stream",
          "name": "stdout",
          "text": [
            "Escolha sua potência para o número complexo i:17\n",
            "O resultado é i\n"
          ]
        }
      ],
      "source": [
        "n=int(input('Escolha sua potência para o número complexo i:'))\n",
        "if(n%4==1):\n",
        "  print('O resultado é i')\n",
        "if(n%4==2):\n",
        "  print('O resultado é -1')\n",
        "if(n%4==3):\n",
        "  print('O resultado é -i')\n",
        "if(n%4==0):\n",
        "  print('O resultado é 1')\n",
        "\n"
      ]
    },
    {
      "cell_type": "markdown",
      "source": [
        "Questão 3"
      ],
      "metadata": {
        "id": "Z4vX85fy8KY7"
      }
    },
    {
      "cell_type": "markdown",
      "source": [],
      "metadata": {
        "id": "QxL56fkr9Dvq"
      }
    },
    {
      "cell_type": "code",
      "source": [
        "c1=complex(3,-1)\n",
        "c2=complex(1,4)\n",
        "print('A soma dos dois números complexos é:', c1+c2)\n",
        "print('A multiplicação dos dois números complexos é:', c1*c2)\n"
      ],
      "metadata": {
        "colab": {
          "base_uri": "https://localhost:8080/"
        },
        "id": "xHhnnj2B6g0u",
        "outputId": "a787691f-3de0-4d31-b4de-50c77ea0f50e"
      },
      "execution_count": null,
      "outputs": [
        {
          "output_type": "stream",
          "name": "stdout",
          "text": [
            "A soma dos dois números complexos é: (4+3j)\n",
            "A multiplicação dos dois números complexos é: (7+11j)\n"
          ]
        }
      ]
    },
    {
      "cell_type": "markdown",
      "source": [
        "Questão 4"
      ],
      "metadata": {
        "id": "t9Khgalf9BcL"
      }
    },
    {
      "cell_type": "code",
      "source": [
        "#Perceba que, para verificarmos se o complexo dado é solução do polinômio, basta conferir se a expressão dará 0\n",
        "x=complex(-1,+1)\n",
        "pol= x**2+ 2*x +2\n",
        "print(pol)"
      ],
      "metadata": {
        "colab": {
          "base_uri": "https://localhost:8080/"
        },
        "id": "S3eZvDIR9EQL",
        "outputId": "c164cb89-b5de-4c40-81f5-82fa1952df80"
      },
      "execution_count": null,
      "outputs": [
        {
          "output_type": "stream",
          "name": "stdout",
          "text": [
            "0j\n"
          ]
        }
      ]
    },
    {
      "cell_type": "markdown",
      "source": [
        "Questão 5"
      ],
      "metadata": {
        "id": "w6QqsWlGFNEF"
      }
    },
    {
      "cell_type": "code",
      "source": [
        "n1=complex(input('Forneça um número complexo'))\n",
        "n2=complex(input('Forneça outro número complexo'))\n",
        "n3=complex(input('Forneça outro número complexo'))\n",
        "#item a\n",
        "if(n1+n2==n2+n1):\n",
        "  print(n1+n2, n2+n1)\n",
        "  print('Propriedade de soma verificada')\n",
        "if(n1*n2==n2*n1):\n",
        "  print(n1*n2, n2*n1)\n",
        "  print('Propriedade de multiplicação verificada')\n",
        "#item b\n",
        "if((n1+n2)+n3==n1+(n2+n3)):\n",
        "  print((n1+n2)+n3, n1+(n2+n3))\n",
        "  print('Propriedade associativa na soma verificada')\n",
        "if((n1*n2)*n3==n1*(n2*n3)):\n",
        "  print((n1*n2)*n3, n1*(n2*n3))\n",
        "  print('Propriedade associativa na soma verificada')\n",
        "#item c\n",
        "if(n1*(n2+n3)==(n1*n2)+ (n1*n3)):\n",
        "  print((n1+n2)+n3, n1+(n2+n3))\n",
        "  print('Propriedade de distributividade verificada')\n",
        "\n",
        "\n"
      ],
      "metadata": {
        "colab": {
          "base_uri": "https://localhost:8080/"
        },
        "id": "L7kDYynbFQLk",
        "outputId": "4fd24aaf-6b5e-4d6e-e333-eed0fad39217"
      },
      "execution_count": null,
      "outputs": [
        {
          "output_type": "stream",
          "name": "stdout",
          "text": [
            "Forneça um número complexo1+2j\n",
            "Forneça outro número complexo1-2j\n",
            "Forneça outro número complexo1+1j\n",
            "(2+0j) (2+0j)\n",
            "Propriedade de soma verificada\n",
            "(5+0j) (5+0j)\n",
            "Propriedade de multiplicação verificada\n",
            "(3+1j) (3+1j)\n",
            "Propriedade associativa na soma verificada\n",
            "(5+5j) (5+5j)\n",
            "Propriedade associativa na soma verificada\n",
            "(3+1j) (3+1j)\n",
            "Propriedade associativa na soma verificada\n"
          ]
        }
      ]
    },
    {
      "cell_type": "markdown",
      "source": [
        "Questão 6"
      ],
      "metadata": {
        "id": "J6ZT6nxU-HK7"
      }
    },
    {
      "cell_type": "code",
      "source": [
        "n1=complex(input('Forneça um número complexo'))\n",
        "n2=complex(input('Forneça outro número complexo'))\n",
        "n3=n1*n2\n",
        "n4=n1+n2\n",
        "\n",
        "def mod(r,i): #Função que calcula o módulo de um número complexo\n",
        "  return((r**2+ i**2)**(1/2))\n",
        "#item a\n",
        "print(mod(n1.real, n1.imag)*mod(n2.real,n2.imag))\n",
        "print(mod(n3.real, n3.imag))\n",
        "if(mod(n1.real, n1.imag)*mod(n2.real,n2.imag)==mod(n3.real, n3.imag)):\n",
        "  print('Propriedade verificada')\n",
        "\n",
        "#item b\n",
        "print(mod(n4.real, n4.imag))\n",
        "print(mod(n1.real, n1.imag)+mod(n2.real,n2.imag))\n",
        "if (mod(n4.real, n4.imag)<=mod(n1.real, n1.imag)+mod(n2.real,n2.imag)):\n",
        "  print('Propriedade verificada')"
      ],
      "metadata": {
        "colab": {
          "base_uri": "https://localhost:8080/"
        },
        "id": "KvbR7e6a-Jeb",
        "outputId": "b03c545c-27d5-4616-d06d-9b4525764004"
      },
      "execution_count": null,
      "outputs": [
        {
          "output_type": "stream",
          "name": "stdout",
          "text": [
            "Forneça um número complexo3+4j\n",
            "Forneça outro número complexo6+8j\n",
            "50.0\n",
            "50.0\n",
            "Propriedade verificada\n",
            "15.0\n",
            "15.0\n",
            "Propriedade verificada\n"
          ]
        }
      ]
    },
    {
      "cell_type": "markdown",
      "source": [
        "Questão 7\n"
      ],
      "metadata": {
        "id": "UIrc-G-pC_AN"
      }
    },
    {
      "cell_type": "code",
      "source": [
        "n1=complex(input('Forneça um número complexo'))\n",
        "n2=complex(input('Forneça outro número complexo'))\n",
        "n3=n1*n2\n",
        "n4=n1+n2\n",
        "#item a\n",
        "print(n1.conjugate()+n2.conjugate())\n",
        "print(n4.conjugate())\n",
        "if(n1.conjugate()+n2.conjugate()==n4.conjugate()):\n",
        "  print('Propriedade verificada')\n",
        "#item b\n",
        "print(n1.conjugate()*n2.conjugate())\n",
        "print(n3.conjugate())\n",
        "if(n1.conjugate()*n2.conjugate()==n3.conjugate()):\n",
        "  print('Propriedade verificada')"
      ],
      "metadata": {
        "colab": {
          "base_uri": "https://localhost:8080/"
        },
        "id": "ddqszsrlDBH5",
        "outputId": "7004a564-ddcc-40f7-a94b-5a9521af2a82"
      },
      "execution_count": null,
      "outputs": [
        {
          "output_type": "stream",
          "name": "stdout",
          "text": [
            "Forneça um número complexo2+4j\n",
            "Forneça outro número complexo5-6j\n",
            "(7+2j)\n",
            "(7+2j)\n",
            "Propriedade verificada\n",
            "(34-8j)\n",
            "(34-8j)\n",
            "Propriedade verificada\n"
          ]
        }
      ]
    }
  ]
}